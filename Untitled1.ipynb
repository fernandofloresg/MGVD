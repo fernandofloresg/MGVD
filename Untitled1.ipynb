{
 "cells": [
  {
   "cell_type": "code",
   "execution_count": 2,
   "metadata": {},
   "outputs": [
    {
     "ename": "TypeError",
     "evalue": "__init__() got an unexpected keyword argument 'max_size'",
     "output_type": "error",
     "traceback": [
      "\u001b[1;31m---------------------------------------------------------------------------\u001b[0m",
      "\u001b[1;31mTypeError\u001b[0m                                 Traceback (most recent call last)",
      "\u001b[1;32m<ipython-input-2-394e45cbdfea>\u001b[0m in \u001b[0;36m<module>\u001b[1;34m()\u001b[0m\n\u001b[0;32m      8\u001b[0m \u001b[0mnum_threads\u001b[0m \u001b[1;33m=\u001b[0m \u001b[1;36m10\u001b[0m\u001b[1;33m\u001b[0m\u001b[0m\n\u001b[0;32m      9\u001b[0m \u001b[0mpage_number\u001b[0m \u001b[1;33m=\u001b[0m \u001b[1;36m1\u001b[0m \u001b[1;33m-\u001b[0m \u001b[0mnum_threads\u001b[0m\u001b[1;33m\u001b[0m\u001b[0m\n\u001b[1;32m---> 10\u001b[1;33m \u001b[0mURLs_queue\u001b[0m  \u001b[1;33m=\u001b[0m \u001b[0mQueue\u001b[0m\u001b[1;33m(\u001b[0m\u001b[0mmax_size\u001b[0m\u001b[1;33m=\u001b[0m\u001b[1;36m100\u001b[0m\u001b[1;33m)\u001b[0m\u001b[1;33m\u001b[0m\u001b[0m\n\u001b[0m\u001b[0;32m     11\u001b[0m \u001b[0minitial_URL\u001b[0m \u001b[1;33m=\u001b[0m\u001b[1;34m'http://www.uabc.mx'\u001b[0m\u001b[1;33m\u001b[0m\u001b[0m\n\u001b[0;32m     12\u001b[0m \u001b[1;33m\u001b[0m\u001b[0m\n",
      "\u001b[1;31mTypeError\u001b[0m: __init__() got an unexpected keyword argument 'max_size'"
     ]
    }
   ],
   "source": [
    "# System modules\n",
    "from queue import Queue\n",
    "from threading import Thread\n",
    "from boilerpipe.extract import Extractor\n",
    "import time, re\n",
    "\n",
    "# Set up some global variables\n",
    "num_threads = 10\n",
    "page_number = 1 - num_threads\n",
    "URLs_queue  = Queue(max_size=100)\n",
    "initial_URL ='http://www.uabc.mx'\n",
    "\n",
    "def getURLs(URL):\n",
    "    extractor = Extractor(extractor='KeepEverythingExtractor', url=URL)\n",
    "    pageContent = extractor.getHTML()\n",
    "    URLs = re.findall('href=[\\'\"]?(.[^\\'\" >]+)', pageContent)\n",
    "    return URLs\n",
    "\n",
    "def populateQueue(URLs):\n",
    "    global URLs_queue\n",
    "    for entry in URLs:\n",
    "        print ('Queuing:', entry)\n",
    "        URLs_queue.put(entry)\n",
    "\n",
    "\n",
    "def ExtractPageContent(i, q):\n",
    "    \"\"\"By using an infinite loop, this function processes URLs in the queue, one after another.  \n",
    "    Only exit when the main thread ends.\n",
    "    \"\"\"\n",
    "    global page_number\n",
    "    \n",
    "    while True:\n",
    "        print ('\\n %s: Looking for the next URL' % i)\n",
    "        url = q.get()\n",
    "        if url.startswith(\"http\"):\n",
    "            try:\n",
    "                print ('\\n %s: Downloading:' % i, url)\n",
    "                extractor = Extractor(extractor='ArticleExtractor', url=url)\n",
    "                pageContent = extractor.getText()\n",
    "                \n",
    "                page_number +=1\n",
    "                file_name = \"C:\\MGVD\\FC\\webPage-\" + str(page_number) + \".txt\" \n",
    "                print(file_name)\n",
    "        \n",
    "                f = open(file_name,\"w+\", encoding=\"utf-8\")\n",
    "                f.write(pageContent)\n",
    "                f.close()\n",
    "                \n",
    "                if (page_number < 10):\n",
    "                    URLs = getURLs(url)\n",
    "                    populateQueue(URLs)\n",
    "            except:\n",
    "                print(\"\\n**** Extraction failed **** \\n\")\n",
    "                \n",
    "        q.task_done()\n",
    "\n",
    "\n",
    "# Download the initial web-page and get its URLs\n",
    "URLs = getURLs(initial_URL)\n",
    "print('*********', len(URLs), '******** \\n')\n",
    "\n",
    "# Put the URLs into the queue.\n",
    "URLs_queue.put(initial_URL)\n",
    "populateQueue(URLs)\n",
    "time.sleep(1)    \n",
    "    \n",
    "# Set up some threads to fetch web-pages data\n",
    "for i in range(num_threads):\n",
    "        worker = Thread(target=ExtractPageContent, args=(i, URLs_queue,))\n",
    "        worker.setDaemon(True)\n",
    "        worker.start()\n",
    "time.sleep(1)\n",
    "\n",
    "start_time = time.clock()\n",
    "\n",
    "# Now wait for the queue to be empty, indicating that we have\n",
    "# processed all of the downloads.\n",
    "print ('*** Main thread waiting *** \\n')\n",
    "URLs_queue.join()\n",
    "print ('*** Done *** \\n')\n",
    "\n",
    "# Elapsed time estimation\n",
    "elapsed_time = time.clock() - start_time\n",
    "print(\"Elapsed time: %0.10f seconds.\" % elapsed_time)"
   ]
  },
  {
   "cell_type": "code",
   "execution_count": null,
   "metadata": {
    "collapsed": true
   },
   "outputs": [],
   "source": []
  }
 ],
 "metadata": {
  "kernelspec": {
   "display_name": "Python 3",
   "language": "python",
   "name": "python3"
  },
  "language_info": {
   "codemirror_mode": {
    "name": "ipython",
    "version": 3
   },
   "file_extension": ".py",
   "mimetype": "text/x-python",
   "name": "python",
   "nbconvert_exporter": "python",
   "pygments_lexer": "ipython3",
   "version": "3.6.2"
  }
 },
 "nbformat": 4,
 "nbformat_minor": 2
}
