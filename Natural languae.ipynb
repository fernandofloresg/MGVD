{
 "cells": [
  {
   "cell_type": "code",
   "execution_count": 14,
   "metadata": {},
   "outputs": [
    {
     "name": "stdout",
     "output_type": "stream",
     "text": [
      "[nltk_data] Downloading package punkt to C:\\Users\\Fernando\n",
      "[nltk_data]     Flores\\AppData\\Roaming\\nltk_data...\n",
      "[nltk_data]   Package punkt is already up-to-date!\n",
      "['El Sr. Presidente de la empresa Panasonic, Dr. José Barbosa, pronunció un discurso inaugural.', 'Fue algo espectacular.']\n",
      "\n"
     ]
    }
   ],
   "source": [
    "import nltk\n",
    "nltk.download('punkt')\n",
    "\n",
    "txt = \"El Sr. Presidente de la empresa Panasonic, Dr. José Barbosa, pronunció un discurso inaugural. Fue algo espectacular. \"\n",
    "sentences = nltk.tokenize.sent_tokenize(txt)\n",
    "print (sentences)\n",
    "print()"
   ]
  },
  {
   "cell_type": "code",
   "execution_count": 15,
   "metadata": {},
   "outputs": [
    {
     "name": "stdout",
     "output_type": "stream",
     "text": [
      "[['El', 'Sr.', 'Presidente', 'de', 'la', 'empresa', 'Panasonic', ',', 'Dr.', 'José', 'Barbosa', ',', 'pronunció', 'un', 'discurso', 'inaugural', '.'], ['Fue', 'algo', 'espectacular', '.']]\n",
      "\n"
     ]
    }
   ],
   "source": [
    "tokens = [nltk.tokenize.word_tokenize(s) for s in sentences]\n",
    "print(tokens)\n",
    "print()"
   ]
  },
  {
   "cell_type": "code",
   "execution_count": 16,
   "metadata": {},
   "outputs": [
    {
     "name": "stdout",
     "output_type": "stream",
     "text": [
      "[nltk_data] Downloading package averaged_perceptron_tagger to\n",
      "[nltk_data]     C:\\Users\\Fernando Flores\\AppData\\Roaming\\nltk_data...\n",
      "[nltk_data]   Package averaged_perceptron_tagger is already up-to-\n",
      "[nltk_data]       date!\n",
      "[[('El', 'NNP'), ('Sr.', 'NNP'), ('Presidente', 'NNP'), ('de', 'FW'), ('la', 'FW'), ('empresa', 'FW'), ('Panasonic', 'NNP'), (',', ','), ('Dr.', 'NNP'), ('José', 'NNP'), ('Barbosa', 'NNP'), (',', ','), ('pronunció', 'NN'), ('un', 'JJ'), ('discurso', 'JJ'), ('inaugural', 'NN'), ('.', '.')], [('Fue', 'NNP'), ('algo', 'VBZ'), ('espectacular', 'JJ'), ('.', '.')]]\n",
      "\n"
     ]
    }
   ],
   "source": [
    "nltk.download('averaged_perceptron_tagger')\n",
    "#Part Of Speech (POS) tagging\n",
    "pos_tagged_tokens = [nltk.pos_tag(t) for t in tokens]\n",
    "print(pos_tagged_tokens)\n",
    "print()"
   ]
  },
  {
   "cell_type": "code",
   "execution_count": 18,
   "metadata": {},
   "outputs": [
    {
     "name": "stdout",
     "output_type": "stream",
     "text": [
      "Inicia uso de TreeTagger: \n",
      "\n",
      "[['El\\tART\\tel',\n",
      "  'Sr\\tNP\\tSeñor',\n",
      "  '.\\tFS\\t.',\n",
      "  'Presidente\\tNC\\tpresidente',\n",
      "  'de\\tPREP\\tde',\n",
      "  'la\\tART\\tel',\n",
      "  'empresa\\tNC\\tempresa',\n",
      "  'Panasonic\\tNP\\tPanasonic',\n",
      "  ',\\tCM\\t,',\n",
      "  'Dr\\tNP\\tDr',\n",
      "  '.\\tFS\\t.',\n",
      "  'José\\tNP\\tJosé',\n",
      "  'Barbosa\\tNP\\tBarbosa',\n",
      "  ',\\tCM\\t,',\n",
      "  'pronunció\\tVLfin\\tpronunciar',\n",
      "  'un\\tART\\tun',\n",
      "  'discurso\\tNC\\tdiscurso',\n",
      "  'inaugural\\tADJ\\tinaugural',\n",
      "  '.\\tFS\\t.'],\n",
      " ['Fue\\tVSfin\\tser',\n",
      "  'algo\\tQU\\talgo',\n",
      "  'espectacular\\tADJ\\tespectacular',\n",
      "  '.\\tFS\\t.']]\n",
      "\n",
      "[[Tag(word='El', pos='ART', lemma='el'),\n",
      "  Tag(word='Sr', pos='NP', lemma='Señor'),\n",
      "  Tag(word='.', pos='FS', lemma='.'),\n",
      "  Tag(word='Presidente', pos='NC', lemma='presidente'),\n",
      "  Tag(word='de', pos='PREP', lemma='de'),\n",
      "  Tag(word='la', pos='ART', lemma='el'),\n",
      "  Tag(word='empresa', pos='NC', lemma='empresa'),\n",
      "  Tag(word='Panasonic', pos='NP', lemma='Panasonic'),\n",
      "  Tag(word=',', pos='CM', lemma=','),\n",
      "  Tag(word='Dr', pos='NP', lemma='Dr'),\n",
      "  Tag(word='.', pos='FS', lemma='.'),\n",
      "  Tag(word='José', pos='NP', lemma='José'),\n",
      "  Tag(word='Barbosa', pos='NP', lemma='Barbosa'),\n",
      "  Tag(word=',', pos='CM', lemma=','),\n",
      "  Tag(word='pronunció', pos='VLfin', lemma='pronunciar'),\n",
      "  Tag(word='un', pos='ART', lemma='un'),\n",
      "  Tag(word='discurso', pos='NC', lemma='discurso'),\n",
      "  Tag(word='inaugural', pos='ADJ', lemma='inaugural'),\n",
      "  Tag(word='.', pos='FS', lemma='.')],\n",
      " [Tag(word='Fue', pos='VSfin', lemma='ser'),\n",
      "  Tag(word='algo', pos='QU', lemma='algo'),\n",
      "  Tag(word='espectacular', pos='ADJ', lemma='espectacular'),\n",
      "  Tag(word='.', pos='FS', lemma='.')]]\n"
     ]
    }
   ],
   "source": [
    "from pprint import pprint  # For proper print of sequences.\n",
    "import treetaggerwrapper\n",
    "\n",
    "print(\"Inicia uso de TreeTagger: \")\n",
    "print()\n",
    "\n",
    "#1) build a TreeTagger wrapper:\n",
    "tagger = treetaggerwrapper.TreeTagger(TAGLANG='es',TAGDIR='C:/tree-tagger-windows-3.2/TreeTagger')\n",
    "\n",
    "tags = [tagger.tag_text(s) for s in sentences]\n",
    "pprint(tags)\n",
    "print()\n",
    "\n",
    "tags2 = [treetaggerwrapper.make_tags(t) for t in tags]\n",
    "pprint(tags2)"
   ]
  },
  {
   "cell_type": "code",
   "execution_count": 26,
   "metadata": {},
   "outputs": [
    {
     "name": "stdout",
     "output_type": "stream",
     "text": [
      "(S\n",
      "  (PERSON Mr./NNP)\n",
      "  (PERSON Green/NNP)\n",
      "  killed/VBD\n",
      "  (ORGANIZATION Colonel/NNP Mustard/NNP)\n",
      "  in/IN\n",
      "  the/DT\n",
      "  study/NN\n",
      "  with/IN\n",
      "  the/DT\n",
      "  candlestick/NN\n",
      "  ./.)\n",
      "(S\n",
      "  (PERSON Mr./NNP)\n",
      "  (ORGANIZATION Green/NNP)\n",
      "  is/VBZ\n",
      "  not/RB\n",
      "  a/DT\n",
      "  very/RB\n",
      "  nice/JJ\n",
      "  fellow/NN\n",
      "  ./.)\n"
     ]
    }
   ],
   "source": [
    "import nltk\n",
    "\n",
    "txt = \"Mr. Green killed Colonel Mustard in the study with the candlestick. Mr. Green is not a very nice fellow.\"\n",
    "#txt = \"EL Sr. Rios y los presentes esperaban mayor comprensi󮠣uando se presentaron.\"\n",
    "sentences = nltk.tokenize.sent_tokenize(txt)\n",
    "sentences\n",
    "tokens = [nltk.tokenize.word_tokenize(s) for s in sentences]\n",
    "tokens\n",
    "pos_tagged_tokens = [nltk.pos_tag(t) for t in tokens]\n",
    "pos_tagged_tokens\n",
    "\n",
    "for chunk in nltk.ne_chunk_sents(pos_tagged_tokens, binary=False):\n",
    "    print(chunk)\n"
   ]
  },
  {
   "cell_type": "code",
   "execution_count": null,
   "metadata": {
    "collapsed": true
   },
   "outputs": [],
   "source": []
  }
 ],
 "metadata": {
  "kernelspec": {
   "display_name": "Python 3",
   "language": "python",
   "name": "python3"
  },
  "language_info": {
   "codemirror_mode": {
    "name": "ipython",
    "version": 3
   },
   "file_extension": ".py",
   "mimetype": "text/x-python",
   "name": "python",
   "nbconvert_exporter": "python",
   "pygments_lexer": "ipython3",
   "version": "3.6.2"
  }
 },
 "nbformat": 4,
 "nbformat_minor": 2
}
