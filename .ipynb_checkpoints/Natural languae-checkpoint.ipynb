{
 "cells": [
  {
   "cell_type": "code",
   "execution_count": 14,
   "metadata": {},
   "outputs": [
    {
     "name": "stdout",
     "output_type": "stream",
     "text": [
      "[nltk_data] Downloading package punkt to C:\\Users\\Fernando\n",
      "[nltk_data]     Flores\\AppData\\Roaming\\nltk_data...\n",
      "[nltk_data]   Package punkt is already up-to-date!\n",
      "['El Sr. Presidente de la empresa Panasonic, Dr. José Barbosa, pronunció un discurso inaugural.', 'Fue algo espectacular.']\n",
      "\n"
     ]
    }
   ],
   "source": [
    "import nltk\n",
    "nltk.download('punkt')\n",
    "\n",
    "txt = \"El Sr. Presidente de la empresa Panasonic, Dr. José Barbosa, pronunció un discurso inaugural. Fue algo espectacular. \"\n",
    "sentences = nltk.tokenize.sent_tokenize(txt)\n",
    "print (sentences)\n",
    "print()"
   ]
  },
  {
   "cell_type": "code",
   "execution_count": 15,
   "metadata": {},
   "outputs": [
    {
     "name": "stdout",
     "output_type": "stream",
     "text": [
      "[['El', 'Sr.', 'Presidente', 'de', 'la', 'empresa', 'Panasonic', ',', 'Dr.', 'José', 'Barbosa', ',', 'pronunció', 'un', 'discurso', 'inaugural', '.'], ['Fue', 'algo', 'espectacular', '.']]\n",
      "\n"
     ]
    }
   ],
   "source": [
    "tokens = [nltk.tokenize.word_tokenize(s) for s in sentences]\n",
    "print(tokens)\n",
    "print()"
   ]
  },
  {
   "cell_type": "code",
   "execution_count": 16,
   "metadata": {},
   "outputs": [
    {
     "name": "stdout",
     "output_type": "stream",
     "text": [
      "[nltk_data] Downloading package averaged_perceptron_tagger to\n",
      "[nltk_data]     C:\\Users\\Fernando Flores\\AppData\\Roaming\\nltk_data...\n",
      "[nltk_data]   Package averaged_perceptron_tagger is already up-to-\n",
      "[nltk_data]       date!\n",
      "[[('El', 'NNP'), ('Sr.', 'NNP'), ('Presidente', 'NNP'), ('de', 'FW'), ('la', 'FW'), ('empresa', 'FW'), ('Panasonic', 'NNP'), (',', ','), ('Dr.', 'NNP'), ('José', 'NNP'), ('Barbosa', 'NNP'), (',', ','), ('pronunció', 'NN'), ('un', 'JJ'), ('discurso', 'JJ'), ('inaugural', 'NN'), ('.', '.')], [('Fue', 'NNP'), ('algo', 'VBZ'), ('espectacular', 'JJ'), ('.', '.')]]\n",
      "\n"
     ]
    }
   ],
   "source": [
    "nltk.download('averaged_perceptron_tagger')\n",
    "#Part Of Speech (POS) tagging\n",
    "pos_tagged_tokens = [nltk.pos_tag(t) for t in tokens]\n",
    "print(pos_tagged_tokens)\n",
    "print()"
   ]
  },
  {
   "cell_type": "code",
   "execution_count": 18,
   "metadata": {},
   "outputs": [
    {
     "name": "stdout",
     "output_type": "stream",
     "text": [
      "Inicia uso de TreeTagger: \n",
      "\n",
      "[['El\\tART\\tel',\n",
      "  'Sr\\tNP\\tSeñor',\n",
      "  '.\\tFS\\t.',\n",
      "  'Presidente\\tNC\\tpresidente',\n",
      "  'de\\tPREP\\tde',\n",
      "  'la\\tART\\tel',\n",
      "  'empresa\\tNC\\tempresa',\n",
      "  'Panasonic\\tNP\\tPanasonic',\n",
      "  ',\\tCM\\t,',\n",
      "  'Dr\\tNP\\tDr',\n",
      "  '.\\tFS\\t.',\n",
      "  'José\\tNP\\tJosé',\n",
      "  'Barbosa\\tNP\\tBarbosa',\n",
      "  ',\\tCM\\t,',\n",
      "  'pronunció\\tVLfin\\tpronunciar',\n",
      "  'un\\tART\\tun',\n",
      "  'discurso\\tNC\\tdiscurso',\n",
      "  'inaugural\\tADJ\\tinaugural',\n",
      "  '.\\tFS\\t.'],\n",
      " ['Fue\\tVSfin\\tser',\n",
      "  'algo\\tQU\\talgo',\n",
      "  'espectacular\\tADJ\\tespectacular',\n",
      "  '.\\tFS\\t.']]\n",
      "\n",
      "[[Tag(word='El', pos='ART', lemma='el'),\n",
      "  Tag(word='Sr', pos='NP', lemma='Señor'),\n",
      "  Tag(word='.', pos='FS', lemma='.'),\n",
      "  Tag(word='Presidente', pos='NC', lemma='presidente'),\n",
      "  Tag(word='de', pos='PREP', lemma='de'),\n",
      "  Tag(word='la', pos='ART', lemma='el'),\n",
      "  Tag(word='empresa', pos='NC', lemma='empresa'),\n",
      "  Tag(word='Panasonic', pos='NP', lemma='Panasonic'),\n",
      "  Tag(word=',', pos='CM', lemma=','),\n",
      "  Tag(word='Dr', pos='NP', lemma='Dr'),\n",
      "  Tag(word='.', pos='FS', lemma='.'),\n",
      "  Tag(word='José', pos='NP', lemma='José'),\n",
      "  Tag(word='Barbosa', pos='NP', lemma='Barbosa'),\n",
      "  Tag(word=',', pos='CM', lemma=','),\n",
      "  Tag(word='pronunció', pos='VLfin', lemma='pronunciar'),\n",
      "  Tag(word='un', pos='ART', lemma='un'),\n",
      "  Tag(word='discurso', pos='NC', lemma='discurso'),\n",
      "  Tag(word='inaugural', pos='ADJ', lemma='inaugural'),\n",
      "  Tag(word='.', pos='FS', lemma='.')],\n",
      " [Tag(word='Fue', pos='VSfin', lemma='ser'),\n",
      "  Tag(word='algo', pos='QU', lemma='algo'),\n",
      "  Tag(word='espectacular', pos='ADJ', lemma='espectacular'),\n",
      "  Tag(word='.', pos='FS', lemma='.')]]\n"
     ]
    }
   ],
   "source": [
    "from pprint import pprint  # For proper print of sequences.\n",
    "import treetaggerwrapper\n",
    "\n",
    "print(\"Inicia uso de TreeTagger: \")\n",
    "print()\n",
    "\n",
    "#1) build a TreeTagger wrapper:\n",
    "tagger = treetaggerwrapper.TreeTagger(TAGLANG='es',TAGDIR='C:/tree-tagger-windows-3.2/TreeTagger')\n",
    "\n",
    "tags = [tagger.tag_text(s) for s in sentences]\n",
    "pprint(tags)\n",
    "print()\n",
    "\n",
    "tags2 = [treetaggerwrapper.make_tags(t) for t in tags]\n",
    "pprint(tags2)"
   ]
  },
  {
   "cell_type": "code",
   "execution_count": 20,
   "metadata": {},
   "outputs": [
    {
     "ename": "LookupError",
     "evalue": "\n**********************************************************************\n  Resource\n  'chunkers/maxent_ne_chunker/english_ace_multiclass.pickle' not\n  found.  Please use the NLTK Downloader to obtain the resource:\n  >>> nltk.download()\n  Searched in:\n    - 'C:\\\\Users\\\\Fernando Flores/nltk_data'\n    - 'C:\\\\nltk_data'\n    - 'D:\\\\nltk_data'\n    - 'E:\\\\nltk_data'\n    - 'C:\\\\anaconda3\\\\nltk_data'\n    - 'C:\\\\anaconda3\\\\lib\\\\nltk_data'\n    - 'C:\\\\Users\\\\Fernando Flores\\\\AppData\\\\Roaming\\\\nltk_data'\n    - ''\n**********************************************************************",
     "output_type": "error",
     "traceback": [
      "\u001b[1;31m---------------------------------------------------------------------------\u001b[0m",
      "\u001b[1;31mLookupError\u001b[0m                               Traceback (most recent call last)",
      "\u001b[1;32m<ipython-input-20-d2f86a0c1334>\u001b[0m in \u001b[0;36m<module>\u001b[1;34m()\u001b[0m\n\u001b[0;32m     10\u001b[0m \u001b[0mpos_tagged_tokens\u001b[0m\u001b[1;33m\u001b[0m\u001b[0m\n\u001b[0;32m     11\u001b[0m \u001b[1;33m\u001b[0m\u001b[0m\n\u001b[1;32m---> 12\u001b[1;33m \u001b[1;32mfor\u001b[0m \u001b[0mchunk\u001b[0m \u001b[1;32min\u001b[0m \u001b[0mnltk\u001b[0m\u001b[1;33m.\u001b[0m\u001b[0mne_chunk_sents\u001b[0m\u001b[1;33m(\u001b[0m\u001b[0mpos_tagged_tokens\u001b[0m\u001b[1;33m,\u001b[0m \u001b[0mbinary\u001b[0m\u001b[1;33m=\u001b[0m\u001b[1;32mFalse\u001b[0m\u001b[1;33m)\u001b[0m\u001b[1;33m:\u001b[0m\u001b[1;33m\u001b[0m\u001b[0m\n\u001b[0m\u001b[0;32m     13\u001b[0m     \u001b[0mprint\u001b[0m\u001b[1;33m(\u001b[0m\u001b[0mchunk\u001b[0m\u001b[1;33m)\u001b[0m\u001b[1;33m\u001b[0m\u001b[0m\n",
      "\u001b[1;32mC:\\anaconda3\\lib\\site-packages\\nltk\\chunk\\__init__.py\u001b[0m in \u001b[0;36mne_chunk_sents\u001b[1;34m(tagged_sentences, binary)\u001b[0m\n\u001b[0;32m    186\u001b[0m     \u001b[1;32melse\u001b[0m\u001b[1;33m:\u001b[0m\u001b[1;33m\u001b[0m\u001b[0m\n\u001b[0;32m    187\u001b[0m         \u001b[0mchunker_pickle\u001b[0m \u001b[1;33m=\u001b[0m \u001b[0m_MULTICLASS_NE_CHUNKER\u001b[0m\u001b[1;33m\u001b[0m\u001b[0m\n\u001b[1;32m--> 188\u001b[1;33m     \u001b[0mchunker\u001b[0m \u001b[1;33m=\u001b[0m \u001b[0mload\u001b[0m\u001b[1;33m(\u001b[0m\u001b[0mchunker_pickle\u001b[0m\u001b[1;33m)\u001b[0m\u001b[1;33m\u001b[0m\u001b[0m\n\u001b[0m\u001b[0;32m    189\u001b[0m     \u001b[1;32mreturn\u001b[0m \u001b[0mchunker\u001b[0m\u001b[1;33m.\u001b[0m\u001b[0mparse_sents\u001b[0m\u001b[1;33m(\u001b[0m\u001b[0mtagged_sentences\u001b[0m\u001b[1;33m)\u001b[0m\u001b[1;33m\u001b[0m\u001b[0m\n\u001b[0;32m    190\u001b[0m \u001b[1;33m\u001b[0m\u001b[0m\n",
      "\u001b[1;32mC:\\anaconda3\\lib\\site-packages\\nltk\\data.py\u001b[0m in \u001b[0;36mload\u001b[1;34m(resource_url, format, cache, verbose, logic_parser, fstruct_reader, encoding)\u001b[0m\n\u001b[0;32m    812\u001b[0m \u001b[1;33m\u001b[0m\u001b[0m\n\u001b[0;32m    813\u001b[0m     \u001b[1;31m# Load the resource.\u001b[0m\u001b[1;33m\u001b[0m\u001b[1;33m\u001b[0m\u001b[0m\n\u001b[1;32m--> 814\u001b[1;33m     \u001b[0mopened_resource\u001b[0m \u001b[1;33m=\u001b[0m \u001b[0m_open\u001b[0m\u001b[1;33m(\u001b[0m\u001b[0mresource_url\u001b[0m\u001b[1;33m)\u001b[0m\u001b[1;33m\u001b[0m\u001b[0m\n\u001b[0m\u001b[0;32m    815\u001b[0m \u001b[1;33m\u001b[0m\u001b[0m\n\u001b[0;32m    816\u001b[0m     \u001b[1;32mif\u001b[0m \u001b[0mformat\u001b[0m \u001b[1;33m==\u001b[0m \u001b[1;34m'raw'\u001b[0m\u001b[1;33m:\u001b[0m\u001b[1;33m\u001b[0m\u001b[0m\n",
      "\u001b[1;32mC:\\anaconda3\\lib\\site-packages\\nltk\\data.py\u001b[0m in \u001b[0;36m_open\u001b[1;34m(resource_url)\u001b[0m\n\u001b[0;32m    930\u001b[0m \u001b[1;33m\u001b[0m\u001b[0m\n\u001b[0;32m    931\u001b[0m     \u001b[1;32mif\u001b[0m \u001b[0mprotocol\u001b[0m \u001b[1;32mis\u001b[0m \u001b[1;32mNone\u001b[0m \u001b[1;32mor\u001b[0m \u001b[0mprotocol\u001b[0m\u001b[1;33m.\u001b[0m\u001b[0mlower\u001b[0m\u001b[1;33m(\u001b[0m\u001b[1;33m)\u001b[0m \u001b[1;33m==\u001b[0m \u001b[1;34m'nltk'\u001b[0m\u001b[1;33m:\u001b[0m\u001b[1;33m\u001b[0m\u001b[0m\n\u001b[1;32m--> 932\u001b[1;33m         \u001b[1;32mreturn\u001b[0m \u001b[0mfind\u001b[0m\u001b[1;33m(\u001b[0m\u001b[0mpath_\u001b[0m\u001b[1;33m,\u001b[0m \u001b[0mpath\u001b[0m \u001b[1;33m+\u001b[0m \u001b[1;33m[\u001b[0m\u001b[1;34m''\u001b[0m\u001b[1;33m]\u001b[0m\u001b[1;33m)\u001b[0m\u001b[1;33m.\u001b[0m\u001b[0mopen\u001b[0m\u001b[1;33m(\u001b[0m\u001b[1;33m)\u001b[0m\u001b[1;33m\u001b[0m\u001b[0m\n\u001b[0m\u001b[0;32m    933\u001b[0m     \u001b[1;32melif\u001b[0m \u001b[0mprotocol\u001b[0m\u001b[1;33m.\u001b[0m\u001b[0mlower\u001b[0m\u001b[1;33m(\u001b[0m\u001b[1;33m)\u001b[0m \u001b[1;33m==\u001b[0m \u001b[1;34m'file'\u001b[0m\u001b[1;33m:\u001b[0m\u001b[1;33m\u001b[0m\u001b[0m\n\u001b[0;32m    934\u001b[0m         \u001b[1;31m# urllib might not use mode='rb', so handle this one ourselves:\u001b[0m\u001b[1;33m\u001b[0m\u001b[1;33m\u001b[0m\u001b[0m\n",
      "\u001b[1;32mC:\\anaconda3\\lib\\site-packages\\nltk\\data.py\u001b[0m in \u001b[0;36mfind\u001b[1;34m(resource_name, paths)\u001b[0m\n\u001b[0;32m    651\u001b[0m     \u001b[0msep\u001b[0m \u001b[1;33m=\u001b[0m \u001b[1;34m'*'\u001b[0m \u001b[1;33m*\u001b[0m \u001b[1;36m70\u001b[0m\u001b[1;33m\u001b[0m\u001b[0m\n\u001b[0;32m    652\u001b[0m     \u001b[0mresource_not_found\u001b[0m \u001b[1;33m=\u001b[0m \u001b[1;34m'\\n%s\\n%s\\n%s'\u001b[0m \u001b[1;33m%\u001b[0m \u001b[1;33m(\u001b[0m\u001b[0msep\u001b[0m\u001b[1;33m,\u001b[0m \u001b[0mmsg\u001b[0m\u001b[1;33m,\u001b[0m \u001b[0msep\u001b[0m\u001b[1;33m)\u001b[0m\u001b[1;33m\u001b[0m\u001b[0m\n\u001b[1;32m--> 653\u001b[1;33m     \u001b[1;32mraise\u001b[0m \u001b[0mLookupError\u001b[0m\u001b[1;33m(\u001b[0m\u001b[0mresource_not_found\u001b[0m\u001b[1;33m)\u001b[0m\u001b[1;33m\u001b[0m\u001b[0m\n\u001b[0m\u001b[0;32m    654\u001b[0m \u001b[1;33m\u001b[0m\u001b[0m\n\u001b[0;32m    655\u001b[0m \u001b[1;33m\u001b[0m\u001b[0m\n",
      "\u001b[1;31mLookupError\u001b[0m: \n**********************************************************************\n  Resource\n  'chunkers/maxent_ne_chunker/english_ace_multiclass.pickle' not\n  found.  Please use the NLTK Downloader to obtain the resource:\n  >>> nltk.download()\n  Searched in:\n    - 'C:\\\\Users\\\\Fernando Flores/nltk_data'\n    - 'C:\\\\nltk_data'\n    - 'D:\\\\nltk_data'\n    - 'E:\\\\nltk_data'\n    - 'C:\\\\anaconda3\\\\nltk_data'\n    - 'C:\\\\anaconda3\\\\lib\\\\nltk_data'\n    - 'C:\\\\Users\\\\Fernando Flores\\\\AppData\\\\Roaming\\\\nltk_data'\n    - ''\n**********************************************************************"
     ]
    }
   ],
   "source": [
    "import nltk\n",
    "\n",
    "nltk.download('chunks')\n",
    "txt = \"Mr. Green killed Colonel Mustard in the study with the candlestick. Mr. Green is not a very nice fellow.\"\n",
    "#txt = \"EL Sr. Rios y los presentes esperaban mayor comprensi󮠣uando se presentaron.\"\n",
    "sentences = nltk.tokenize.sent_tokenize(txt)\n",
    "sentences\n",
    "tokens = [nltk.tokenize.word_tokenize(s) for s in sentences]\n",
    "tokens\n",
    "pos_tagged_tokens = [nltk.pos_tag(t) for t in tokens]\n",
    "pos_tagged_tokens\n",
    "\n",
    "for chunk in nltk.ne_chunk_sents(pos_tagged_tokens, binary=False):\n",
    "    print(chunk)\n"
   ]
  },
  {
   "cell_type": "code",
   "execution_count": null,
   "metadata": {
    "collapsed": true
   },
   "outputs": [],
   "source": []
  }
 ],
 "metadata": {
  "kernelspec": {
   "display_name": "Python 3",
   "language": "python",
   "name": "python3"
  },
  "language_info": {
   "codemirror_mode": {
    "name": "ipython",
    "version": 3
   },
   "file_extension": ".py",
   "mimetype": "text/x-python",
   "name": "python",
   "nbconvert_exporter": "python",
   "pygments_lexer": "ipython3",
   "version": "3.6.2"
  }
 },
 "nbformat": 4,
 "nbformat_minor": 2
}
