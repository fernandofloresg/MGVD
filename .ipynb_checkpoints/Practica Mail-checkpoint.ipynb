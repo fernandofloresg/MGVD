{
 "cells": [
  {
   "cell_type": "code",
   "execution_count": 6,
   "metadata": {},
   "outputs": [
    {
     "name": "stdout",
     "output_type": "stream",
     "text": [
      "[('University', 135), ('México', 86), ('uabc.edu.mx', 82), ('mailto', 78), ('Department', 66), ('20informaci', 65), ('Science', 59), ('e=3D6ba01e2a24', 53), ('PRIORITY', 52), ('2Fmailchi.mp', 51), ('Computer', 46), ('Professor', 45), ('Research', 40), ('Assistant', 39), ('seminario', 38), ('20correo', 36), ('Engineering', 36), ('California', 35), ('0AInstituci', 34), ('20revisar', 33), ('0ANombre', 33), ('Privacy', 33), ('url=3Dhttp', 33), ('20atenci', 32), ('e=3Dbd3e9ac226', 32), ('información', 32), ('proyecto', 32), ('instituciones', 32), ('institución', 31), ('educativa', 31), ('Policy', 31), ('Online', 31), ('Marketing', 31), ('INFORMACIÓN', 30), ('20DESEADO', 30), ('Forward', 30), ('0AFavor', 29), ('evaluación', 28), ('International', 28), ('A9fono', 27), ('Contact', 27), ('Software', 27), ('Ciudad', 26), ('Journal', 26), ('Associate', 26), ('Guadalajara', 24), ('noviembre', 24), ('trabajo', 24), ('Address', 24), ('Educational', 24), ('Polanco', 24), ('20bandeja', 23), ('Update', 23), ('Profile/Email', 23), ('p=3Doo', 23), ('Instant', 23), ('removal', 23), ('p=3Dun', 23), ('ovider', 23), ('Constant', 23), ('Training', 23), ('Lagrange', 23), ('Morales', 23), ('Mexic=', 23), ('28103909', 22), ('Mathematics', 22), ('KDnuggets', 21), ('Quiero', 21), ('registrarme', 21), ('Faculty', 20), ('preferences', 19), ('conocimientos', 19), ('Analytics', 19), ('Learning', 19), ('educativas', 19), ('School', 19), ('equipo', 18), ('update', 18), ('través', 18), ('Position', 18), ('Technology', 18), ('e=3Db2fb4c3d2c', 18), ('Cancelar', 17), ('suscripción', 17), ('subject=3DM', 17), ('body=3DEnviar', 17), ('20detallada', 17), ('Facebook', 17), ('empresas', 17), ('Laboratory', 17), ('DETALLADA', 16), ('0ACorreo', 16), ('procesos', 16), ('herramientas', 16), ('Lecturer', 16), ('Multimedia', 16), ('Statistics', 16), ('Iberian', 16), ('Nanotechnology', 16), ('Diamante', 15)]\n"
     ]
    }
   ],
   "source": [
    "import mailbox\n",
    "from collections import Counter\n",
    "from email.header import Header, decode_header, make_header\n",
    "import nltk\n",
    "from nltk.tokenize import word_tokenize\n",
    "from nltk.corpus import stopwords\n",
    "\n",
    "def strRemplaza(texto):    \n",
    "    \"\"\"Reemplazo de múltiples cadenas en Python.\"\"\"\n",
    "    \n",
    "    remplazo = { \n",
    "        '&#225;' : 'á', '&#233;' : 'í', '&#237;' : 'í', '&#243;' : 'ó', \n",
    "        '&#250;' : 'ú', '=C3=A1' : 'á', '=C3=A9' : 'é', '=C3=AD' : 'í', \n",
    "        '=C3=B3' : 'ó', '=C3=BA' : 'ú', '=E1' : 'á', '=E9' : 'é', '=ED' : 'í', \n",
    "        '=F3' : 'ó', '=FA' : 'ú', 'a&#x0301;' : 'á', 'e&#x0301;' : 'é', \n",
    "        'i&#x0301;' : 'í', 'o&#x0301;' : 'ó', 'u&#x0301;' : 'ú',\n",
    "        '=C3=81' : 'Á', '=C3=89' : 'É', '=C3=8D' : 'Í', '=C3=93' : 'Ó', \n",
    "        '=C3=9A' : 'Ú', '&#191;' : '¿', '=C3=B1' : 'ñ', '=2C' : ',', \n",
    "        'n&#x0303;' : 'ñ'\n",
    "    } \n",
    "    regex = re.compile(\"(%s)\" % \"|\".join(map(re.escape, remplazo.keys())))\n",
    "    return regex.sub(lambda x: str(remplazo[x.string[x.start() :x.end()]]), texto)\n",
    "\n",
    "MBOX = 'C:/MGVD/Gmail/Spam.mbox'\n",
    "\n",
    "# Create an mbox that can be iterated over \n",
    "\n",
    "mbox = mailbox.mbox(MBOX)\n",
    "\n",
    "messagesBody = []\n",
    "contMessages  = 0\n",
    "\n",
    "# Create an mbox that can be iterated over \n",
    "mbox = mailbox.mbox(MBOX)\n",
    "\n",
    "for message in mbox:\n",
    "    contMessages +=1\n",
    "    print(message.keys())\n",
    "    print()\n",
    "    print(message.values())\n",
    "    print()\n",
    "    print(message.items())\n",
    "    print()\n",
    "    print(message.get('from'))\n",
    "    print()\n",
    "    print(len(message))\n",
    "    print()\n",
    "    print(str(message))\n",
    "    for part in message.walk():\n",
    "        if(part.get_content_type() == \"text/plain\"):\n",
    "            txt = make_header(decode_header(part.get_payload()))\n",
    "            txt = strRemplaza(str(txt))     \n",
    "            messagesBody.append(txt)\n"
   ]
  }
 ],
 "metadata": {
  "kernelspec": {
   "display_name": "Python 3",
   "language": "python",
   "name": "python3"
  },
  "language_info": {
   "codemirror_mode": {
    "name": "ipython",
    "version": 3
   },
   "file_extension": ".py",
   "mimetype": "text/x-python",
   "name": "python",
   "nbconvert_exporter": "python",
   "pygments_lexer": "ipython3",
   "version": "3.6.2"
  }
 },
 "nbformat": 4,
 "nbformat_minor": 2
}
