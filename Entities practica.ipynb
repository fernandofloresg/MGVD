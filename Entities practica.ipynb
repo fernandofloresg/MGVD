{
 "cells": [
  {
   "cell_type": "code",
   "execution_count": 1,
   "metadata": {},
   "outputs": [
    {
     "ename": "FileNotFoundError",
     "evalue": "[Errno 2] No such file or directory: 'c:/MGVD/ensenada.txt'",
     "output_type": "error",
     "traceback": [
      "\u001b[1;31m---------------------------------------------------------------------------\u001b[0m",
      "\u001b[1;31mFileNotFoundError\u001b[0m                         Traceback (most recent call last)",
      "\u001b[1;32m<ipython-input-1-57552ff78a78>\u001b[0m in \u001b[0;36m<module>\u001b[1;34m()\u001b[0m\n\u001b[0;32m     31\u001b[0m     \u001b[1;32mreturn\u001b[0m \u001b[0mall_entity_chunks\u001b[0m\u001b[1;33m\u001b[0m\u001b[0m\n\u001b[0;32m     32\u001b[0m \u001b[1;33m\u001b[0m\u001b[0m\n\u001b[1;32m---> 33\u001b[1;33m \u001b[0mtxt\u001b[0m \u001b[1;33m=\u001b[0m \u001b[0mopen\u001b[0m\u001b[1;33m(\u001b[0m\u001b[1;34m\"c:/MGVD/ensenada.txt\"\u001b[0m\u001b[1;33m,\u001b[0m \u001b[0mencoding\u001b[0m\u001b[1;33m=\u001b[0m\u001b[1;34m\"utf-8\"\u001b[0m\u001b[1;33m)\u001b[0m\u001b[1;33m.\u001b[0m\u001b[0mread\u001b[0m\u001b[1;33m(\u001b[0m\u001b[1;33m)\u001b[0m\u001b[1;33m\u001b[0m\u001b[0m\n\u001b[0m\u001b[0;32m     34\u001b[0m \u001b[1;31m#txt = \"Mr. Green killed Colonel Mustard in the study with the candlestick. Mr. Green is not a very nice fellow.\"\u001b[0m\u001b[1;33m\u001b[0m\u001b[1;33m\u001b[0m\u001b[0m\n\u001b[0;32m     35\u001b[0m \u001b[1;33m\u001b[0m\u001b[0m\n",
      "\u001b[1;31mFileNotFoundError\u001b[0m: [Errno 2] No such file or directory: 'c:/MGVD/ensenada.txt'"
     ]
    }
   ],
   "source": [
    "import json\n",
    "import nltk\n",
    "import numpy\n",
    "from pprint import pprint  # For proper print of sequences.\n",
    "import treetaggerwrapper\n",
    "\n",
    "\n",
    "def entities(txt):\n",
    "    sentences = [s for s in nltk.tokenize.sent_tokenize(txt)]\n",
    "    #normalized_sentences = [s.lower() for s in sentences]\n",
    "    \n",
    "    previous_pos = None\n",
    "    current_entity_chunk = []\n",
    "    all_entity_chunks = []\n",
    "    \n",
    "    for s in sentences:\n",
    "        tags = [treetaggerwrapper.make_tags(tagger.tag_text(s))]\n",
    "        \n",
    "        for tag in tags:\n",
    "            for t in tag:\n",
    "                token = t[0]\n",
    "                pos   = t[1]\n",
    "                if pos == previous_pos and pos.startswith('N'):\n",
    "                    current_entity_chunk.append(token)\n",
    "                elif pos.startswith('N'):\n",
    "                    if current_entity_chunk != []:\n",
    "                        all_entity_chunks.append((' '.join(current_entity_chunk), pos))\n",
    "                    current_entity_chunk = [token]\n",
    "                previous_pos = pos\n",
    "        \n",
    "    return all_entity_chunks\n",
    "\n",
    "txt = open(\"c:/MGVD/ensenada.txt\", encoding=\"utf-8\").read()\n",
    "#txt = \"Mr. Green killed Colonel Mustard in the study with the candlestick. Mr. Green is not a very nice fellow.\"\n",
    "\n",
    "#1) build a TreeTagger wrapper:\n",
    "tagger = treetaggerwrapper.TreeTagger(TAGLANG='es',TAGDIR='C:/Taggers/tree-tagger-windows-3.2/TreeTagger')\n",
    "\n",
    "entities = entities(txt)\n",
    "\n",
    "# Store the tokens as an index for the document and account for frequency.\n",
    "frec = dict()\n",
    "for c in entities:\n",
    "    if c[0] in frec:\n",
    "        frec[c[0]] += 1\n",
    "    else:\n",
    "        frec[c[0]] = 1    \n",
    "\n",
    "print ('Entities Frequency')\n",
    "print ('-------------')\n",
    "pprint(frec)\n",
    "print ()\n",
    "\n"
   ]
  }
 ],
 "metadata": {
  "kernelspec": {
   "display_name": "Python 3",
   "language": "python",
   "name": "python3"
  },
  "language_info": {
   "codemirror_mode": {
    "name": "ipython",
    "version": 3
   },
   "file_extension": ".py",
   "mimetype": "text/x-python",
   "name": "python",
   "nbconvert_exporter": "python",
   "pygments_lexer": "ipython3",
   "version": "3.6.2"
  }
 },
 "nbformat": 4,
 "nbformat_minor": 2
}
