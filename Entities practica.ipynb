{
 "cells": [
  {
   "cell_type": "code",
   "execution_count": 8,
   "metadata": {},
   "outputs": [
    {
     "name": "stdout",
     "output_type": "stream",
     "text": [
      "Entities Frequency\n",
      "-------------\n",
      "{'Septiembre': 3, 'Todos Santos': 6, 'San Salvador': 1, 'Victoria': 1, 'Juan Rodríguez Cabrillo': 2, 'San Mateo': 1, 'Jesús': 1, 'Sevilla': 1, 'Mathes': 1, 'Tenochtitlanes': 1, 'Rodríguez Cabrillo': 1, 'Océano': 2, 'Baja': 2, 'Alta California': 1, 'Sebastián Vizcaíno': 1, 'Manila': 1, 'Noviembre': 2, 'Ensenada': 19, 'XVIII': 1, 'La Ensenada': 1, 'Marzo': 3, 'Loretano Don José Manuel Ruíz': 1, 'Caballería': 1, 'Compañía': 1, 'Real': 3, 'Presidio': 1, 'Loreto': 2, 'Baja California': 4, 'Don José Joaquín': 1, 'Arrillaga': 1, 'Camino Real': 1, 'Santo Tomas': 1, 'San Miguel': 1, 'Ruíz': 3, 'Julio': 2, 'Estanislao Salgado': 1, 'Don José Manuel Ruíz Carrillo': 1, 'Maneadero': 1, 'Arroyo': 1, 'Carmen': 1, 'José Manuel Ruíz': 1, 'Ciudad': 3, 'Salvadora Ruíz': 1, 'Francisco Xavier Gastélum': 3, 'Octubre': 1, 'Gastélum': 2, 'Salvadora': 1, 'María Luisa Gastélum Ruíz': 1, 'Pedro Gastélum Duarte': 2, 'Baja California Sur': 1, 'Don': 1, 'Todos': 1, 'Santos': 1, 'Mayo': 5, 'Pedro': 2, 'Señor Salvador': 1, 'Solorio': 1, 'Avenida Juárez': 1, 'Miramar': 1, 'Calle Ryerson': 1, 'XIX': 1, 'México': 6, 'Estados Unidos': 2, 'Atlántico': 1, 'Pacífico': 1, 'San Francisco': 2, 'San Diego': 5, 'William Walker': 1, 'Gastelúm': 1, 'Fuerte': 1, 'Mckibbin': 1, 'Walker': 1, 'República Independiente': 1, 'Sonora-Baja': 1, 'California': 3, 'Antonio Meléndrez': 1, 'Meléndrez': 1, 'Valle': 1, 'San Rafael': 2, 'Junio': 1, 'Ambrosio': 1, 'Castillo': 3, 'Hermosillo Sonora': 1, 'Rafael': 1, 'Agosto': 1, 'Comerciantes': 1, 'Partido': 2, 'Norte': 2, 'Santo Tomás': 1, 'Manuel Clemente Rojo': 1, 'Ni': 1, 'La Paz': 2, 'José María Villagrana': 1, 'Enero': 1, 'Don Pedro Gastélum': 1, 'País': 1, 'República': 1, 'Diciembre': 2, 'Luis Huller': 1, 'Huller': 1, 'George': 1, 'Sisson': 1, 'Hartford': 1, 'Connecticut': 1, 'Don Pedro Gastélum Duarte': 1, 'Motivo': 1, 'Maximiliano Beristein': 1, 'Don Pedro': 2, 'Beristein': 1, 'Compañía Americana': 1, 'Congreso': 1, 'Unión': 1, 'Distrito': 2, 'Sur': 1, 'Porfirio Díaz': 1, 'Compañía Inglesa': 1, 'Londres Inglaterra': 1, 'Secretaría': 1, 'Fomento': 1, 'Abril': 1, 'Venustiano Carranza': 1}\n",
      "\n"
     ]
    }
   ],
   "source": [
    "import json\n",
    "import nltk\n",
    "import numpy\n",
    "from pprint import pprint  # For proper print of sequences.\n",
    "import treetaggerwrapper\n",
    "\n",
    "\n",
    "def entities(txt):\n",
    "    sentences = [s for s in nltk.tokenize.sent_tokenize(txt)]\n",
    "    #normalized_sentences = [s.lower() for s in sentences]\n",
    "    \n",
    "    previous_pos = None\n",
    "    current_entity_chunk = []\n",
    "    all_entity_chunks = []\n",
    "    \n",
    "    for s in sentences:\n",
    "        tags = [treetaggerwrapper.make_tags(tagger.tag_text(s))]\n",
    "        for tag in tags:\n",
    "            for t in tag:\n",
    "                token = t[0]\n",
    "                pos   = t[1]\n",
    "                if pos == previous_pos and pos.startswith('N'):\n",
    "                    \n",
    "                    current_entity_chunk.append(token)\n",
    "                elif pos.startswith('N'):\n",
    "                    if current_entity_chunk != []:\n",
    "                        word = ' '.join(current_entity_chunk)\n",
    "                        if(word[0].isupper()):\n",
    "                            all_entity_chunks.append((' '.join(current_entity_chunk), pos))\n",
    "                    current_entity_chunk = [token]\n",
    "                previous_pos = pos\n",
    "        \n",
    "    return all_entity_chunks\n",
    "\n",
    "txt = open(\"c:/MGVD/ensenada.txt\", encoding=\"utf-8\").read()\n",
    "#txt = \"Mr. Green killed Colonel Mustard in the study with the candlestick. Mr. Green is not a very nice fellow.\"\n",
    "\n",
    "#1) build a TreeTagger wrapper:\n",
    "tagger = treetaggerwrapper.TreeTagger(TAGLANG='es',TAGDIR='C:/Taggers/tree-tagger-windows-3.2/TreeTagger')\n",
    "\n",
    "entities = entities(txt)\n",
    "# Store the tokens as an index for the document and account for frequency.\n",
    "frec = dict()\n",
    "for c in entities:\n",
    "    if c[0] in frec:\n",
    "        frec[c[0]] += 1\n",
    "    else:\n",
    "        frec[c[0]] = 1    \n",
    "\n",
    "print ('Entities Frequency')\n",
    "print ('-------------')\n",
    "print(frec)\n",
    "print ()\n",
    "\n"
   ]
  },
  {
   "cell_type": "code",
   "execution_count": null,
   "metadata": {
    "collapsed": true
   },
   "outputs": [],
   "source": []
  }
 ],
 "metadata": {
  "kernelspec": {
   "display_name": "Python 3",
   "language": "python",
   "name": "python3"
  },
  "language_info": {
   "codemirror_mode": {
    "name": "ipython",
    "version": 3
   },
   "file_extension": ".py",
   "mimetype": "text/x-python",
   "name": "python",
   "nbconvert_exporter": "python",
   "pygments_lexer": "ipython3",
   "version": "3.6.2"
  }
 },
 "nbformat": 4,
 "nbformat_minor": 2
}
